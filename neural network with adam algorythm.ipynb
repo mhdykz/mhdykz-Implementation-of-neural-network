{
  "nbformat": 4,
  "nbformat_minor": 0,
  "metadata": {
    "colab": {
      "provenance": [],
      "authorship_tag": "ABX9TyOYleP6lOe/S/zHjWrAKKSi",
      "include_colab_link": true
    },
    "kernelspec": {
      "name": "python3",
      "display_name": "Python 3"
    },
    "language_info": {
      "name": "python"
    }
  },
  "cells": [
    {
      "cell_type": "markdown",
      "metadata": {
        "id": "view-in-github",
        "colab_type": "text"
      },
      "source": [
        "<a href=\"https://colab.research.google.com/github/mhdykz/mhdykz-Implementation-of-neural-network/blob/main/neural%20network%20with%20adam%20algorythm.ipynb\" target=\"_parent\"><img src=\"https://colab.research.google.com/assets/colab-badge.svg\" alt=\"Open In Colab\"/></a>"
      ]
    },
    {
      "cell_type": "code",
      "source": [
        "import numpy as np\n",
        "import pandas as pd\n",
        "from sklearn.preprocessing import StandardScaler\n",
        "import matplotlib.pyplot as plot\n",
        "\n"
      ],
      "metadata": {
        "id": "-IE_9SBV_vPA"
      },
      "execution_count": 37,
      "outputs": []
    },
    {
      "cell_type": "code",
      "execution_count": 38,
      "metadata": {
        "id": "IoAWZO7FzkHu"
      },
      "outputs": [],
      "source": [
        "# Read train and test data\n",
        "train_data = pd.read_csv('train.csv')\n",
        "test_data = pd.read_csv('test.csv')\n"
      ]
    },
    {
      "cell_type": "code",
      "source": [
        "# Filling missing values of 'Age' and 'Fare' columns with mean\n",
        "train_data['Age'].fillna(train_data['Age'].mean(), inplace=True)\n",
        "test_data['Age'].fillna(test_data['Age'].mean(), inplace=True)\n",
        "\n",
        "train_data['Fare'].fillna(train_data['Fare'].mean(), inplace=True)\n",
        "test_data['Fare'].fillna(test_data['Fare'].mean(), inplace=True)\n",
        "\n",
        "# Filling 'Embarked' column with the mode\n",
        "train_data['Embarked'].fillna(train_data['Embarked'].mode()[0], inplace=True)\n",
        "test_data['Embarked'].fillna(test_data['Embarked'].mode()[0], inplace=True)"
      ],
      "metadata": {
        "id": "JXFbT-46zy7W"
      },
      "execution_count": 39,
      "outputs": []
    },
    {
      "cell_type": "code",
      "source": [
        "# Convert categorical columns to numeric\n",
        "train_data = pd.get_dummies(train_data, columns=['Sex', 'Embarked'], drop_first=True)\n",
        "test_data = pd.get_dummies(test_data, columns=['Sex', 'Embarked'], drop_first=True)"
      ],
      "metadata": {
        "id": "PonJ87xq_34K"
      },
      "execution_count": 40,
      "outputs": []
    },
    {
      "cell_type": "code",
      "source": [
        "# Normalization of 'Age' and 'Fare'\n",
        "scaler = StandardScaler()\n",
        "train_data[['Age', 'Fare']] = scaler.fit_transform(train_data[['Age', 'Fare']])\n",
        "test_data[['Age', 'Fare']] = scaler.transform(test_data[['Age', 'Fare']])"
      ],
      "metadata": {
        "id": "Dhfi06bh_63F"
      },
      "execution_count": 41,
      "outputs": []
    },
    {
      "cell_type": "code",
      "source": [
        "# Select input properties and labels\n",
        "Xtrain = train_data[['Pclass', 'Sex_male', 'Age', 'SibSp', 'Parch', 'Fare', 'Embarked_Q', 'Embarked_S']]\n",
        "Ytrain = train_data['Survived']\n",
        "Xtest = test_data[['Pclass', 'Sex_male', 'Age', 'SibSp', 'Parch', 'Fare', 'Embarked_Q', 'Embarked_S']]\n",
        "\n",
        "Xtrain = np.array(Xtrain, dtype=float)\n",
        "Xtest = np.array(Xtest, dtype=float)\n",
        "Ytrain = np.array(Ytrain).reshape(-1, 1)  # Ensure Ytrain is reshaped to (m, 1)"
      ],
      "metadata": {
        "id": "bt4QcusB__oA"
      },
      "execution_count": 42,
      "outputs": []
    },
    {
      "cell_type": "code",
      "source": [
        "# Neural network initialization\n",
        "input_size = Xtrain.shape[1]\n",
        "hidden_size_1 = 16  # Increased first hidden layer size\n",
        "hidden_size_2 = 8  # Added second hidden layer\n",
        "output_size = 1\n",
        "\n",
        "np.random.seed(42)\n",
        "W1 = np.random.randn(input_size, hidden_size_1) * np.sqrt(2. / input_size)  # He-initialization\n",
        "b1 = np.zeros((1, hidden_size_1))\n",
        "W2 = np.random.randn(hidden_size_1, hidden_size_2) * np.sqrt(2. / hidden_size_1)\n",
        "b2 = np.zeros((1, hidden_size_2))\n",
        "W3 = np.random.randn(hidden_size_2, output_size) * np.sqrt(2. / hidden_size_2)\n",
        "b3 = np.zeros((1, output_size))"
      ],
      "metadata": {
        "id": "pj6xT62M_9mt"
      },
      "execution_count": 43,
      "outputs": []
    },
    {
      "cell_type": "code",
      "source": [
        "# Adam Optimizer parameters\n",
        "learning_rate = 0.001\n",
        "beta1 = 0.9\n",
        "beta2 = 0.999\n",
        "epsilon = 1e-8\n",
        "mW1, mb1, mW2, mb2, mW3, mb3 = 0, 0, 0, 0, 0, 0\n",
        "vW1, vb1, vW2, vb2, vW3, vb3 = 0, 0, 0, 0, 0, 0"
      ],
      "metadata": {
        "id": "BdjyGk4aAGmo"
      },
      "execution_count": 44,
      "outputs": []
    },
    {
      "cell_type": "code",
      "source": [
        "# Neural network functions\n",
        "def forward_pass(X, W1, b1, W2, b2, W3, b3):\n",
        "    z1 = np.dot(X, W1) + b1\n",
        "    a1 = np.maximum(0, z1)  # ReLU activation for first layer\n",
        "    z2 = np.dot(a1, W2) + b2\n",
        "    a2 = np.maximum(0, z2)  # ReLU activation for second layer\n",
        "    z3 = np.dot(a2, W3) + b3\n",
        "    y_hat = 1 / (1 + np.exp(-z3))  # Sigmoid output\n",
        "    return y_hat, z1, a1, z2, a2\n"
      ],
      "metadata": {
        "id": "4EK8oHmkAJeo"
      },
      "execution_count": 45,
      "outputs": []
    },
    {
      "cell_type": "code",
      "source": [
        "def backpropagation(X, y, y_hat, z1, a1, z2, a2, W2, W3):\n",
        "    m = X.shape[0]\n",
        "\n",
        "    dz3 = (y_hat - y)\n",
        "    dW3 = np.dot(a2.T, dz3) / m\n",
        "    db3 = np.sum(dz3, axis=0, keepdims=True) / m\n",
        "\n",
        "    dz2 = np.dot(dz3, W3.T) * (z2 > 0)  # ReLU derivative\n",
        "    dW2 = np.dot(a1.T, dz2) / m\n",
        "    db2 = np.sum(dz2, axis=0, keepdims=True) / m\n",
        "\n",
        "    dz1 = np.dot(dz2, W2.T) * (z1 > 0)  # ReLU derivative\n",
        "    dW1 = np.dot(X.T, dz1) / m\n",
        "    db1 = np.sum(dz1, axis=0, keepdims=True) / m\n",
        "\n",
        "    return dW1, db1, dW2, db2, dW3, db3\n"
      ],
      "metadata": {
        "id": "RpfJKIRHAMaw"
      },
      "execution_count": 46,
      "outputs": []
    },
    {
      "cell_type": "code",
      "source": [
        "def adam_update(W, b, dW, db, mW, mb, vW, vb, t, learning_rate, beta1, beta2, epsilon):\n",
        "    mW = beta1 * mW + (1 - beta1) * dW\n",
        "    mb = beta1 * mb + (1 - beta1) * db\n",
        "    vW = beta2 * vW + (1 - beta2) * (dW ** 2)\n",
        "    vb = beta2 * vb + (1 - beta2) * (db ** 2)\n",
        "\n",
        "    mW_corr = mW / (1 - beta1 ** t)\n",
        "    mb_corr = mb / (1 - beta1 ** t)\n",
        "    vW_corr = vW / (1 - beta2 ** t)\n",
        "    vb_corr = vb / (1 - beta2 ** t)\n",
        "\n",
        "    W -= learning_rate * mW_corr / (np.sqrt(vW_corr) + epsilon)\n",
        "    b -= learning_rate * mb_corr / (np.sqrt(vb_corr) + epsilon)\n",
        "\n",
        "    return W, b, mW, mb, vW, vb\n"
      ],
      "metadata": {
        "id": "q3vd-G_dAPFv"
      },
      "execution_count": 47,
      "outputs": []
    },
    {
      "cell_type": "code",
      "source": [
        "def predict(X, W1, b1, W2, b2, W3, b3):\n",
        "    y_hat, _, _, _, _ = forward_pass(X, W1, b1, W2, b2, W3, b3)\n",
        "    return (y_hat > 0.5).astype(int)"
      ],
      "metadata": {
        "id": "Ko-L70OgAReq"
      },
      "execution_count": 48,
      "outputs": []
    },
    {
      "cell_type": "code",
      "source": [
        "def train_and_evaluate(Xtrain, Ytrain, Xtest, num_iterations=2000):\n",
        "    input_size = Xtrain.shape[1]\n",
        "    hidden_size_1 = 16\n",
        "    hidden_size_2 = 8\n",
        "    output_size = 1\n",
        "    np.random.seed(42)\n",
        "    W1 = np.random.randn(input_size, hidden_size_1) * np.sqrt(2. / input_size)  # He-initialization\n",
        "    b1 = np.zeros((1, hidden_size_1))\n",
        "    W2 = np.random.randn(hidden_size_1, hidden_size_2) * np.sqrt(2. / hidden_size_1)\n",
        "    b2 = np.zeros((1, hidden_size_2))\n",
        "    W3 = np.random.randn(hidden_size_2, output_size) * np.sqrt(2. / hidden_size_2)\n",
        "    b3 = np.zeros((1, output_size))\n",
        "\n",
        "    # Adam optimizer variables\n",
        "    mW1, mb1, mW2, mb2, mW3, mb3 = 0, 0, 0, 0, 0, 0\n",
        "    vW1, vb1, vW2, vb2, vW3, vb3 = 0, 0, 0, 0, 0, 0\n",
        "\n",
        "    losses = []\n",
        "    epsilon = 1e-8\n",
        "\n",
        "    for i in range(num_iterations):\n",
        "        y_hat, z1, a1, z2, a2 = forward_pass(Xtrain, W1, b1, W2, b2, W3, b3)\n",
        "\n",
        "        # Loss calculation with epsilon to avoid log(0)\n",
        "        loss = -np.mean(Ytrain * np.log(y_hat + epsilon) + (1 - Ytrain) * np.log(1 - y_hat + epsilon))\n",
        "        losses.append(loss)\n",
        "\n",
        "        dW1, db1, dW2, db2, dW3, db3 = backpropagation(Xtrain, Ytrain, y_hat, z1, a1, z2, a2, W2, W3)\n",
        "\n",
        "        t = i + 1\n",
        "        W1, b1, mW1, mb1, vW1, vb1 = adam_update(W1, b1, dW1, db1, mW1, mb1, vW1, vb1, t, learning_rate, beta1, beta2, epsilon)\n",
        "        W2, b2, mW2, mb2, vW2, vb2 = adam_update(W2, b2, dW2, db2, mW2, mb2, vW2, vb2, t, learning_rate, beta1, beta2, epsilon)\n",
        "        W3, b3, mW3, mb3, vW3, vb3 = adam_update(W3, b3, dW3, db3, mW3, mb3, vW3, vb3, t, learning_rate, beta1, beta2, epsilon)\n",
        "\n",
        "        if i % 100 == 0:\n",
        "            print(f\"Iteration {i}, Loss: {loss:.4f}\")\n",
        "\n",
        "    predictions = predict(Xtest, W1, b1, W2, b2, W3, b3)\n",
        "\n",
        "    submission = pd.DataFrame({\n",
        "        \"PassengerId\": np.arange(1, len(predictions) + 1),\n",
        "        \"Survived\": predictions.flatten()\n",
        "    })\n",
        "    submission.to_csv(\"titanic_predictions.csv\", index=False)\n",
        "    return predictions, losses"
      ],
      "metadata": {
        "id": "5MxJnSyLAUWr"
      },
      "execution_count": 49,
      "outputs": []
    },
    {
      "cell_type": "code",
      "source": [
        "# Train the model\n",
        "predictions, losses = train_and_evaluate(Xtrain, Ytrain, Xtest, num_iterations=2000)\n",
        "\n",
        "# Save predictions to CSV file\n",
        "submission = pd.DataFrame({\n",
        "    \"PassengerId\": test_data['PassengerId'],\n",
        "    \"Survived\": predictions.flatten()\n",
        "})\n",
        "\n",
        "submission.to_csv('titanic_predictions.csv', index=False)\n",
        "\n",
        "print(\"File saved as titanic_predictions.csv\")\n",
        "\n",
        "# Visualize loss curve\n",
        "def plot_loss_curve(losses):\n",
        "    plt.plot(losses)\n",
        "    plt.title(\"Loss Curve\")\n",
        "    plt.xlabel(\"Iteration\")\n",
        "    plt.ylabel(\"Loss\")\n",
        "    plt.show()\n",
        "\n",
        "\n",
        "plot_loss_curve(losses)\n",
        "\n",
        "# Download file (for Colab)\n",
        "from google.colab import files\n",
        "files.download('titanic_predictions.csv')"
      ],
      "metadata": {
        "colab": {
          "base_uri": "https://localhost:8080/",
          "height": 853
        },
        "id": "YC5UsbdVAZy3",
        "outputId": "bf66c1ca-c8c6-4014-d8d8-149afd79e261"
      },
      "execution_count": 51,
      "outputs": [
        {
          "output_type": "stream",
          "name": "stdout",
          "text": [
            "Iteration 0, Loss: 0.8513\n",
            "Iteration 100, Loss: 0.5416\n",
            "Iteration 200, Loss: 0.4606\n",
            "Iteration 300, Loss: 0.4295\n",
            "Iteration 400, Loss: 0.4094\n",
            "Iteration 500, Loss: 0.3956\n",
            "Iteration 600, Loss: 0.3846\n",
            "Iteration 700, Loss: 0.3741\n",
            "Iteration 800, Loss: 0.3665\n",
            "Iteration 900, Loss: 0.3616\n",
            "Iteration 1000, Loss: 0.3579\n",
            "Iteration 1100, Loss: 0.3546\n",
            "Iteration 1200, Loss: 0.3518\n",
            "Iteration 1300, Loss: 0.3482\n",
            "Iteration 1400, Loss: 0.3450\n",
            "Iteration 1500, Loss: 0.3425\n",
            "Iteration 1600, Loss: 0.3402\n",
            "Iteration 1700, Loss: 0.3360\n",
            "Iteration 1800, Loss: 0.3305\n",
            "Iteration 1900, Loss: 0.3262\n",
            "File saved as titanic_predictions.csv\n"
          ]
        },
        {
          "output_type": "display_data",
          "data": {
            "text/plain": [
              "<Figure size 640x480 with 1 Axes>"
            ],
            "image/png": "[encoded data removed]"
          },
          "metadata": {}
        },
        {
          "output_type": "display_data",
          "data": {
            "text/plain": [
              "<IPython.core.display.Javascript object>"
            ],
            "application/javascript": [
              "\n",
              "    async function download(id, filename, size) {\n",
              "      if (!google.colab.kernel.accessAllowed) {\n",
              "        return;\n",
              "      }\n",
              "      const div = document.createElement('div');\n",
              "      const label = document.createElement('label');\n",
              "      label.textContent = `Downloading \"${filename}\": `;\n",
              "      div.appendChild(label);\n",
              "      const progress = document.createElement('progress');\n",
              "      progress.max = size;\n",
              "      div.appendChild(progress);\n",
              "      document.body.appendChild(div);\n",
              "\n",
              "      const buffers = [];\n",
              "      let downloaded = 0;\n",
              "\n",
              "      const channel = await google.colab.kernel.comms.open(id);\n",
              "      // Send a message to notify the kernel that we're ready.\n",
              "      channel.send({})\n",
              "\n",
              "      for await (const message of channel.messages) {\n",
              "        // Send a message to notify the kernel that we're ready.\n",
              "        channel.send({})\n",
              "        if (message.buffers) {\n",
              "          for (const buffer of message.buffers) {\n",
              "            buffers.push(buffer);\n",
              "            downloaded += buffer.byteLength;\n",
              "            progress.value = downloaded;\n",
              "          }\n",
              "        }\n",
              "      }\n",
              "      const blob = new Blob(buffers, {type: 'application/binary'});\n",
              "      const a = document.createElement('a');\n",
              "      a.href = window.URL.createObjectURL(blob);\n",
              "      a.download = filename;\n",
              "      div.appendChild(a);\n",
              "      a.click();\n",
              "      div.remove();\n",
              "    }\n",
              "  "
            ]
          },
          "metadata": {}
        },
        {
          "output_type": "display_data",
          "data": {
            "text/plain": [
              "<IPython.core.display.Javascript object>"
            ],
            "application/javascript": [
              "download(\"download_c0546272-a30d-4620-bd71-939b24285e2c\", \"titanic_predictions.csv\", 2839)"
            ]
          },
          "metadata": {}
        }
      ]
    }
  ]
}