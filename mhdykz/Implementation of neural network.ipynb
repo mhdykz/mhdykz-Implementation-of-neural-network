{
  "nbformat": 4,
  "nbformat_minor": 0,
  "metadata": {
    "colab": {
      "provenance": [],
      "authorship_tag": "ABX9TyOmKy9zsIv7if0VuBjRgFg3",
      "include_colab_link": true
    },
    "kernelspec": {
      "name": "python3",
      "display_name": "Python 3"
    },
    "language_info": {
      "name": "python"
    }
  },
  "cells": [
    {
      "cell_type": "markdown",
      "metadata": {
        "id": "view-in-github",
        "colab_type": "text"
      },
      "source": [
        "<a href=\"https://colab.research.google.com/github/mhdykz/mhdykz-Implementation-of-neural-network/blob/main/mhdykz/Implementation%20of%20neural%20network.ipynb\" target=\"_parent\"><img src=\"https://colab.research.google.com/assets/colab-badge.svg\" alt=\"Open In Colab\"/></a>"
      ]
    },
    {
      "cell_type": "code",
      "execution_count": 24,
      "metadata": {
        "id": "gCCgNSG82mmw"
      },
      "outputs": [],
      "source": [
        "import pandas as pd\n"
      ]
    },
    {
      "cell_type": "code",
      "source": [
        "data_path = 'titanic.csv'\n",
        "data = pd.read_csv(data_path)\n",
        "print(\"Train Data Info:\")\n",
        "print(data.info())\n",
        "print(\"\\nTrain Data Sample:\")\n",
        "print(data.head())"
      ],
      "metadata": {
        "colab": {
          "base_uri": "https://localhost:8080/"
        },
        "id": "zOWMyZx03LZo",
        "outputId": "6bca0526-571f-45b5-bbe3-0514737f1e34"
      },
      "execution_count": 25,
      "outputs": [
        {
          "output_type": "stream",
          "name": "stdout",
          "text": [
            "Train Data Info:\n",
            "<class 'pandas.core.frame.DataFrame'>\n",
            "RangeIndex: 891 entries, 0 to 890\n",
            "Data columns (total 12 columns):\n",
            " #   Column       Non-Null Count  Dtype  \n",
            "---  ------       --------------  -----  \n",
            " 0   PassengerId  891 non-null    int64  \n",
            " 1   Survived     891 non-null    int64  \n",
            " 2   Pclass       891 non-null    int64  \n",
            " 3   Name         891 non-null    object \n",
            " 4   Sex          891 non-null    object \n",
            " 5   Age          714 non-null    float64\n",
            " 6   SibSp        891 non-null    int64  \n",
            " 7   Parch        891 non-null    int64  \n",
            " 8   Ticket       891 non-null    object \n",
            " 9   Fare         891 non-null    float64\n",
            " 10  Cabin        204 non-null    object \n",
            " 11  Embarked     889 non-null    object \n",
            "dtypes: float64(2), int64(5), object(5)\n",
            "memory usage: 83.7+ KB\n",
            "None\n",
            "\n",
            "Train Data Sample:\n",
            "   PassengerId  Survived  Pclass  \\\n",
            "0            1         0       3   \n",
            "1            2         1       1   \n",
            "2            3         1       3   \n",
            "3            4         1       1   \n",
            "4            5         0       3   \n",
            "\n",
            "                                                Name     Sex   Age  SibSp  \\\n",
            "0                            Braund, Mr. Owen Harris    male  22.0      1   \n",
            "1  Cumings, Mrs. John Bradley (Florence Briggs Th...  female  38.0      1   \n",
            "2                             Heikkinen, Miss. Laina  female  26.0      0   \n",
            "3       Futrelle, Mrs. Jacques Heath (Lily May Peel)  female  35.0      1   \n",
            "4                           Allen, Mr. William Henry    male  35.0      0   \n",
            "\n",
            "   Parch            Ticket     Fare Cabin Embarked  \n",
            "0      0         A/5 21171   7.2500   NaN        S  \n",
            "1      0          PC 17599  71.2833   C85        C  \n",
            "2      0  STON/O2. 3101282   7.9250   NaN        S  \n",
            "3      0            113803  53.1000  C123        S  \n",
            "4      0            373450   8.0500   NaN        S  \n"
          ]
        }
      ]
    },
    {
      "cell_type": "code",
      "source": [
        "#check for missing datas\n",
        "print(\"Missing values in each column:\")\n",
        "print(data.isnull().sum())"
      ],
      "metadata": {
        "colab": {
          "base_uri": "https://localhost:8080/"
        },
        "id": "xtgpiJfW32J6",
        "outputId": "7f3ee80b-8db0-47c5-d2ed-3ce61a1f26a3"
      },
      "execution_count": 26,
      "outputs": [
        {
          "output_type": "stream",
          "name": "stdout",
          "text": [
            "Missing values in each column:\n",
            "PassengerId      0\n",
            "Survived         0\n",
            "Pclass           0\n",
            "Name             0\n",
            "Sex              0\n",
            "Age            177\n",
            "SibSp            0\n",
            "Parch            0\n",
            "Ticket           0\n",
            "Fare             0\n",
            "Cabin          687\n",
            "Embarked         2\n",
            "dtype: int64\n"
          ]
        }
      ]
    },
    {
      "cell_type": "code",
      "source": [
        "# filling missing values ​​of 'Age' column with mean\n",
        "data['Age'].fillna(data['Age'].mean(), inplace=True)\n",
        "\n",
        "# Remove rows with many missing values\n",
        "data.drop(columns=['Cabin'], inplace=True)\n",
        "\n",
        "# Filling the 'Embarked' column with the mode\n",
        "data['Embarked'].fillna(data['Embarked'].mode()[0], inplace=True)\n",
        "\n",
        "print(\"\\nData after handling missing values:\")\n",
        "print(data.isnull().sum())\n",
        "\n"
      ],
      "metadata": {
        "colab": {
          "base_uri": "https://localhost:8080/"
        },
        "id": "TOh3kHXk5Yv2",
        "outputId": "bc4f131e-0571-45e7-ee85-7a0c3d105c74"
      },
      "execution_count": 27,
      "outputs": [
        {
          "output_type": "stream",
          "name": "stdout",
          "text": [
            "\n",
            "Data after handling missing values:\n",
            "PassengerId    0\n",
            "Survived       0\n",
            "Pclass         0\n",
            "Name           0\n",
            "Sex            0\n",
            "Age            0\n",
            "SibSp          0\n",
            "Parch          0\n",
            "Ticket         0\n",
            "Fare           0\n",
            "Embarked       0\n",
            "dtype: int64\n"
          ]
        }
      ]
    },
    {
      "cell_type": "markdown",
      "source": [
        "دلیل اصلی نرمال‌سازی:\n",
        "تفاوت در مقیاس ویژگی‌ها: داده‌های مختلف ممکن است مقادیر بسیار متفاوتی داشته باشند. مثلاً ستون Age (سن) می‌تواند مقادیری بین 0 تا 80 داشته باشد، در حالی که ستون Fare (هزینه بلیت) ممکن است مقادیری بین 0 تا چند صد داشته باشد. این تفاوت در مقیاس می‌تواند باعث شود که مدل به ویژگی‌هایی با مقیاس بزرگ‌تر حساس‌تر شود و ویژگی‌های کوچک‌تر را نادیده بگیرد.\n",
        "\n",
        "تسریع در همگرایی مدل: زمانی که ویژگی‌ها در مقیاس مشابهی قرار بگیرند، الگوریتم‌های بهینه‌سازی (مثل نزول گرادیان) سریع‌تر و با کارایی بهتری عمل می‌کنند. اگر مقیاس ویژگی‌ها متفاوت باشد، مدل ممکن است نیاز به تعداد بیشتری از گام‌های بهینه‌سازی داشته باشد تا به یک نتیجه خوب برسد.\n",
        "\n",
        "پیش‌فرض بسیاری از الگوریتم‌ها: بسیاری از الگوریتم‌های یادگیری ماشین فرض می‌کنند که داده‌ها دارای توزیعی نرمال هستند (میانگین 0 و واریانس 1). استانداردسازی به تنظیم داده‌ها در این توزیع کمک می‌کند.\n",
        "\n",
        "نرمال‌سازی چگونه انجام می‌شود؟\n",
        "در اینجا از استانداردسازی استفاده می‌کنیم، به این معنی که هر ویژگی به‌گونه‌ای تغییر می‌کند که دارای میانگین صفر و انحراف معیار یک باشد."
      ],
      "metadata": {
        "id": "1ooL_CjV77Kk"
      }
    },
    {
      "cell_type": "code",
      "source": [
        "#normalization\n",
        "from sklearn.preprocessing import StandardScaler\n",
        "\n",
        "print(\"\\n'Age' and 'Fare':\")\n",
        "print(data[['Age', 'Fare']].head())\n",
        "\n",
        "scaler = StandardScaler()\n",
        "data[['Age', 'Fare']] = scaler.fit_transform(data[['Age', 'Fare']])\n",
        "\n",
        "print(\"\\nNormalized 'Age' and 'Fare':\")\n",
        "print(data[['Age', 'Fare']].head())"
      ],
      "metadata": {
        "colab": {
          "base_uri": "https://localhost:8080/"
        },
        "id": "xo1kig6-6HNC",
        "outputId": "31f009ba-3f3b-424a-99c2-4b540e4e2a19"
      },
      "execution_count": 28,
      "outputs": [
        {
          "output_type": "stream",
          "name": "stdout",
          "text": [
            "\n",
            "'Age' and 'Fare':\n",
            "    Age     Fare\n",
            "0  22.0   7.2500\n",
            "1  38.0  71.2833\n",
            "2  26.0   7.9250\n",
            "3  35.0  53.1000\n",
            "4  35.0   8.0500\n",
            "\n",
            "Normalized 'Age' and 'Fare':\n",
            "        Age      Fare\n",
            "0 -0.592481 -0.502445\n",
            "1  0.638789  0.786845\n",
            "2 -0.284663 -0.488854\n",
            "3  0.407926  0.420730\n",
            "4  0.407926 -0.486337\n"
          ]
        }
      ]
    },
    {
      "cell_type": "code",
      "source": [],
      "metadata": {
        "id": "IoG7ccRR8NKF"
      },
      "execution_count": null,
      "outputs": []
    }
  ]
}